{
 "cells": [
  {
   "cell_type": "markdown",
   "metadata": {
    "application/vnd.databricks.v1+cell": {
     "cellMetadata": {},
     "inputWidgets": {},
     "nuid": "fa5ce1d5-0ff5-4398-bd74-2accece01770",
     "showTitle": false,
     "title": ""
    }
   },
   "source": []
  },
  {
   "cell_type": "markdown",
   "metadata": {
    "application/vnd.databricks.v1+cell": {
     "cellMetadata": {},
     "inputWidgets": {},
     "nuid": "38b4dbfc-af74-4010-b051-4decf6321e02",
     "showTitle": false,
     "title": ""
    }
   },
   "source": [
    "# Criando gráficos"
   ]
  },
  {
   "cell_type": "markdown",
   "metadata": {
    "application/vnd.databricks.v1+cell": {
     "cellMetadata": {},
     "inputWidgets": {},
     "nuid": "2eb7a7fa-91c0-4a69-b34e-783d8e6ede1e",
     "showTitle": false,
     "title": ""
    }
   },
   "source": [
    "## Comando pré execução"
   ]
  },
  {
   "cell_type": "code",
   "execution_count": 0,
   "metadata": {
    "application/vnd.databricks.v1+cell": {
     "cellMetadata": {
      "byteLimit": 2048000,
      "rowLimit": 10000
     },
     "inputWidgets": {},
     "nuid": "6e237e99-168d-464b-b657-9326c31939f9",
     "showTitle": false,
     "title": ""
    },
    "executionInfo": {
     "elapsed": 4,
     "status": "ok",
     "timestamp": 1722375751514,
     "user": {
      "displayName": "Arnold Souza",
      "userId": "17303552478664828167"
     },
     "user_tz": 180
    },
    "id": "8CAjFYrnmCfM"
   },
   "outputs": [],
   "source": [
    "%matplotlib inline"
   ]
  },
  {
   "cell_type": "markdown",
   "metadata": {
    "application/vnd.databricks.v1+cell": {
     "cellMetadata": {},
     "inputWidgets": {},
     "nuid": "84ee7c94-5a50-4b22-a4f2-0bb7de94f098",
     "showTitle": false,
     "title": ""
    }
   },
   "source": [
    "## Carregar bibliotecas"
   ]
  },
  {
   "cell_type": "code",
   "execution_count": 0,
   "metadata": {
    "application/vnd.databricks.v1+cell": {
     "cellMetadata": {
      "byteLimit": 2048000,
      "rowLimit": 10000
     },
     "inputWidgets": {},
     "nuid": "cbd3e149-232b-4c6f-bd51-41d765d75973",
     "showTitle": false,
     "title": ""
    },
    "executionInfo": {
     "elapsed": 2065,
     "status": "ok",
     "timestamp": 1722375785851,
     "user": {
      "displayName": "Arnold Souza",
      "userId": "17303552478664828167"
     },
     "user_tz": 180
    },
    "id": "AeD6jJqZ_wO8"
   },
   "outputs": [],
   "source": [
    "# biblioteca padrão de exibicao de graficos\n",
    "import matplotlib.pyplot as plt \n",
    "\n",
    "# evolução do matplotlib para graficos especiais de estatística\n",
    "import seaborn as sns\n",
    "\n",
    "# Biblioteca especializada em estatisca\n",
    "from scipy.stats import spearmanr  # << - nunca vi usarem \n",
    "from scipy.stats import pearsonr # << famoso coeficiente de correlacao "
   ]
  },
  {
   "cell_type": "code",
   "execution_count": 0,
   "metadata": {
    "application/vnd.databricks.v1+cell": {
     "cellMetadata": {
      "byteLimit": 2048000,
      "rowLimit": 10000
     },
     "inputWidgets": {},
     "nuid": "35a27a50-f5cb-4858-9597-9a10c07ba4f5",
     "showTitle": false,
     "title": ""
    },
    "executionInfo": {
     "elapsed": 354,
     "status": "ok",
     "timestamp": 1722375788971,
     "user": {
      "displayName": "Arnold Souza",
      "userId": "17303552478664828167"
     },
     "user_tz": 180
    },
    "id": "vBnnitLr3VRV"
   },
   "outputs": [],
   "source": [
    "# dados -  classificados por lista - porque possuem colchetes []\n",
    "fisica\t    = [56,\t75,\t45,\t71,\t61,\t64,\t58,\t80,\t76,\t61, 90, 55, 68, 96, 87, 90, 99, 100, 90, 31]\n",
    "matematica  = [66,\t70,\t40,\t60,\t65,\t56,\t59,\t77,\t67,\t63, 90, 54, 70, 99, 85, 90, 100, 98, 90, 32 ]\n",
    "historia    = [90,\t50,\t40,\t65,\t65,\t56,\t59,\t10,\t30,\t63, 15, 54, 20, 10, 20, 20 ,10, 25, 90,  33]"
   ]
  },
  {
   "cell_type": "code",
   "execution_count": 0,
   "metadata": {
    "application/vnd.databricks.v1+cell": {
     "cellMetadata": {
      "byteLimit": 2048000,
      "rowLimit": 10000
     },
     "inputWidgets": {},
     "nuid": "d21cb670-4b89-4e14-8ae3-f30537ec9d3e",
     "showTitle": false,
     "title": ""
    }
   },
   "outputs": [],
   "source": [
    "# entrega o tipo de dados que esta sendo chamado\n",
    "type(fisica)"
   ]
  },
  {
   "cell_type": "code",
   "execution_count": 0,
   "metadata": {
    "application/vnd.databricks.v1+cell": {
     "cellMetadata": {
      "byteLimit": 2048000,
      "rowLimit": 10000
     },
     "inputWidgets": {},
     "nuid": "205f7a36-708e-4fcf-abdc-db5ef5f51cfc",
     "showTitle": false,
     "title": ""
    }
   },
   "outputs": [],
   "source": [
    "# len = lenght = tamanho \n",
    "len(fisica)"
   ]
  },
  {
   "cell_type": "code",
   "execution_count": 0,
   "metadata": {
    "application/vnd.databricks.v1+cell": {
     "cellMetadata": {
      "byteLimit": 2048000,
      "rowLimit": 10000
     },
     "inputWidgets": {},
     "nuid": "b5d44b89-214b-4ba1-ac5a-b50582df9c16",
     "showTitle": false,
     "title": ""
    }
   },
   "outputs": [],
   "source": [
    "# define intervalo \n",
    "historia[5:10]"
   ]
  },
  {
   "cell_type": "code",
   "execution_count": 0,
   "metadata": {
    "application/vnd.databricks.v1+cell": {
     "cellMetadata": {
      "byteLimit": 2048000,
      "rowLimit": 10000
     },
     "inputWidgets": {},
     "nuid": "b71ae896-9175-4c72-9ae2-f849a0058a60",
     "showTitle": false,
     "title": ""
    }
   },
   "outputs": [],
   "source": [
    "teste_tupla = (10, 20)\n",
    "teste_lista = [20, 70, 80]\n",
    "type(teste_tupla)"
   ]
  },
  {
   "cell_type": "code",
   "execution_count": 0,
   "metadata": {
    "application/vnd.databricks.v1+cell": {
     "cellMetadata": {
      "byteLimit": 2048000,
      "rowLimit": 10000
     },
     "inputWidgets": {},
     "nuid": "77936306-9920-4d09-8e3e-ef38fd0f15e4",
     "showTitle": false,
     "title": ""
    }
   },
   "outputs": [],
   "source": [
    "teste_lista[1] = 'Arnold'"
   ]
  },
  {
   "cell_type": "code",
   "execution_count": 0,
   "metadata": {
    "application/vnd.databricks.v1+cell": {
     "cellMetadata": {
      "byteLimit": 2048000,
      "rowLimit": 10000
     },
     "inputWidgets": {},
     "nuid": "8b284370-19a6-40a8-8812-b6e9332ffc77",
     "showTitle": false,
     "title": ""
    }
   },
   "outputs": [],
   "source": [
    "teste_lista"
   ]
  },
  {
   "cell_type": "code",
   "execution_count": 0,
   "metadata": {
    "application/vnd.databricks.v1+cell": {
     "cellMetadata": {
      "byteLimit": 2048000,
      "rowLimit": 10000
     },
     "inputWidgets": {},
     "nuid": "474e6b25-fa75-404c-b198-a3fc0c144165",
     "showTitle": false,
     "title": ""
    }
   },
   "outputs": [],
   "source": [
    "sns.color_palette(\"pastel\")"
   ]
  },
  {
   "cell_type": "code",
   "execution_count": 0,
   "metadata": {
    "application/vnd.databricks.v1+cell": {
     "cellMetadata": {
      "byteLimit": 2048000,
      "rowLimit": 10000
     },
     "inputWidgets": {},
     "nuid": "955010cd-428f-4c9f-a104-f70a6bc3fc62",
     "showTitle": false,
     "title": ""
    },
    "colab": {
     "base_uri": "https://localhost:8080/",
     "height": 482
    },
    "executionInfo": {
     "elapsed": 983,
     "status": "ok",
     "timestamp": 1722375792888,
     "user": {
      "displayName": "Arnold Souza",
      "userId": "17303552478664828167"
     },
     "user_tz": 180
    },
    "id": "SChZCkTr_zVj",
    "outputId": "fb1926ef-bba3-4031-b36d-a72ff5b9ee46"
   },
   "outputs": [],
   "source": [
    "# Correlações\n",
    "\n",
    "\n",
    "# Correlação spearman\n",
    "coef, p = spearmanr(fisica, matematica)\n",
    "print(\"Coeficiente de correlação Spearman: %.3f, valor-p: %.3f,\" % (coef, p))\n",
    "\n",
    "# Correlação pearson\n",
    "coef2, p2 = pearsonr(fisica, matematica)\n",
    "print(\"Coeficiente de correlação Pearson: %.3f, valor-p: %.3f,\" % (coef2, p2))\n",
    "\n",
    "# sns é a compressao para seaborn\n",
    "sns.scatterplot(x = fisica, y = matematica);"
   ]
  },
  {
   "cell_type": "markdown",
   "metadata": {
    "application/vnd.databricks.v1+cell": {
     "cellMetadata": {},
     "inputWidgets": {},
     "nuid": "2e8f065e-a2bb-4611-a04c-3c5a66358375",
     "showTitle": false,
     "title": ""
    },
    "id": "zzdYbTFgJZ3N"
   },
   "source": [
    "# Venda videogames"
   ]
  },
  {
   "cell_type": "code",
   "execution_count": 0,
   "metadata": {
    "application/vnd.databricks.v1+cell": {
     "cellMetadata": {
      "byteLimit": 2048000,
      "rowLimit": 10000
     },
     "inputWidgets": {},
     "nuid": "a339fbad-0343-455c-bf61-5bee08c9156e",
     "showTitle": false,
     "title": ""
    }
   },
   "outputs": [],
   "source": [
    "# contrução do dataset\n",
    "console  = [\"switch\",\"switch\",\"switch\",\"Ps4\",\"Ps4\",\"Ps4\",\"XboxOne\",\"XboxOne\",\"XboxOne\"]\n",
    "venda_mm = [6, 3, 1, 2, 9, 3, 1, 6, 7]\n",
    "fx_idade = [\"6-18\",\"19-35\",\"> 35\",\"6-18\",\"19-35\",\"> 35\",\"6-18\",\"19-35\",\"> 35\"]"
   ]
  },
  {
   "cell_type": "code",
   "execution_count": 0,
   "metadata": {
    "application/vnd.databricks.v1+cell": {
     "cellMetadata": {
      "byteLimit": 2048000,
      "rowLimit": 10000
     },
     "inputWidgets": {},
     "nuid": "c5f763e0-f387-4ca5-a1eb-c34051fe0e86",
     "showTitle": false,
     "title": ""
    },
    "colab": {
     "base_uri": "https://localhost:8080/",
     "height": 804
    },
    "executionInfo": {
     "elapsed": 1066,
     "status": "ok",
     "timestamp": 1722375823404,
     "user": {
      "displayName": "Arnold Souza",
      "userId": "17303552478664828167"
     },
     "user_tz": 180
    },
    "id": "dymcmFhsJZQu",
    "outputId": "0addae40-9d3a-4608-98f5-cda64d4958e6"
   },
   "outputs": [],
   "source": [
    "# construir um grafico mais complexo em seaborn \n",
    "sns.set()\n",
    "\n",
    "# configurando paleta de cores - hexadecimais\n",
    "paleta_cores = sns.color_palette([\"#e60000\",\"#0052cc\",\"#009933\"])\n",
    "\n",
    "# definição do grafico - grafico de barra - barplot\n",
    "# hue - cores de categorias                  \n",
    "ax = sns.barplot(x = fx_idade, y = venda_mm, hue=console, palette=paleta_cores)\n",
    "\n",
    "# Definindo informações específicas do gráfico\n",
    "ax.set(\n",
    "        title=\"Volume de vendas de consoles em Milhões, segundo faixas de idade\",\n",
    "        xlabel=\"Idade em faixas\",\n",
    "        ylabel=\"Venda em Milhões (MM)\"\n",
    ")\n",
    "\n",
    "# Apos configurado, exiba o grafico\n",
    "plt.gcf().set_size_inches(18, 9) # Mudar tamanho"
   ]
  },
  {
   "cell_type": "code",
   "execution_count": 0,
   "metadata": {
    "application/vnd.databricks.v1+cell": {
     "cellMetadata": {
      "byteLimit": 2048000,
      "rowLimit": 10000
     },
     "inputWidgets": {},
     "nuid": "b85a8d91-c94f-4cf4-a321-3767025f3578",
     "showTitle": false,
     "title": ""
    }
   },
   "outputs": [],
   "source": [
    "# construir um grafico mais complexo em seaborn \n",
    "sns.set()\n",
    "\n",
    "# configurando paleta de cores - hexadecimais\n",
    "paleta_cores = sns.color_palette([\"#e60000\",\"#0052cc\",\"#009933\"])\n",
    "\n",
    "# definição do grafico - grafico de barra - barplot\n",
    "# hue - cores de categorias                  \n",
    "grafico = sns.barplot(x = fx_idade, y = venda_mm, hue=console, palette=paleta_cores)\n",
    "\n",
    "plt.show()\n"
   ]
  },
  {
   "cell_type": "markdown",
   "metadata": {
    "application/vnd.databricks.v1+cell": {
     "cellMetadata": {},
     "inputWidgets": {},
     "nuid": "e95aa6a3-04f9-4867-980e-8dcd10867714",
     "showTitle": false,
     "title": ""
    }
   },
   "source": [
    "# Criando gráficos em cima de dados reais"
   ]
  },
  {
   "cell_type": "code",
   "execution_count": 0,
   "metadata": {
    "application/vnd.databricks.v1+cell": {
     "cellMetadata": {
      "byteLimit": 2048000,
      "rowLimit": 10000
     },
     "inputWidgets": {},
     "nuid": "e78dd948-8881-49bf-b8ab-68a77596c9a6",
     "showTitle": false,
     "title": ""
    }
   },
   "outputs": [],
   "source": [
    "import pandas as pd\n",
    "\n",
    "\n",
    "file = '/Volumes/coderhouse_ds_58690/default/dados_manuais/thiago/201001.csv'\n",
    "\n",
    "dados_faturamento = pd.read_csv(file)\n",
    "dados_faturamento.head()"
   ]
  },
  {
   "cell_type": "code",
   "execution_count": 0,
   "metadata": {
    "application/vnd.databricks.v1+cell": {
     "cellMetadata": {
      "byteLimit": 2048000,
      "rowLimit": 10000
     },
     "inputWidgets": {},
     "nuid": "ced8943a-ef64-4172-a114-242c7fc38a0f",
     "showTitle": false,
     "title": ""
    }
   },
   "outputs": [],
   "source": [
    "dados_faturamento.groupby('Cod Item')['Quantidade'].sum().reset_index()"
   ]
  },
  {
   "cell_type": "code",
   "execution_count": 0,
   "metadata": {
    "application/vnd.databricks.v1+cell": {
     "cellMetadata": {
      "byteLimit": 2048000,
      "rowLimit": 10000
     },
     "inputWidgets": {},
     "nuid": "bfe65259-7234-4178-895b-c8d3fd8ae236",
     "showTitle": false,
     "title": ""
    }
   },
   "outputs": [],
   "source": [
    "import seaborn as sns\n",
    "import matplotlib.pyplot as plt\n",
    "\n",
    "# Agrupar os dados por 'cod item' e somar as quantidades\n",
    "dados_agrupados = dados_faturamento.groupby('Cod Item')['Quantidade'].sum().reset_index()\n",
    "\n",
    "# Configurar a paleta de cores\n",
    "sns.set()\n",
    "paleta_cores = sns.color_palette([\"#e60000\",\"#0052cc\",\"#009933\"])\n",
    "\n",
    "# Criar o gráfico de barra\n",
    "grafico = sns.barplot(x='Cod Item', y='Quantidade', data=dados_agrupados, palette=paleta_cores)\n",
    "\n",
    "# Exibir o gráfico\n",
    "plt.show()"
   ]
  },
  {
   "cell_type": "code",
   "execution_count": 0,
   "metadata": {
    "application/vnd.databricks.v1+cell": {
     "cellMetadata": {
      "byteLimit": 2048000,
      "rowLimit": 10000
     },
     "inputWidgets": {},
     "nuid": "2f955435-e0eb-429c-8e25-9d393fec0f50",
     "showTitle": false,
     "title": ""
    }
   },
   "outputs": [],
   "source": [
    "import plotly.express as px\n",
    "\n",
    "# Agrupar os dados por 'Cod Item' e somar as quantidades\n",
    "dados_agrupados = dados_faturamento.groupby('Cod Item')['Quantidade'].sum().reset_index()\n",
    "\n",
    "# Criar o gráfico de barra\n",
    "fig = px.bar(dados_agrupados, x='Cod Item', y='Quantidade', title='Quantidade por Cod Item')\n",
    "\n",
    "# Exibir o gráfico\n",
    "fig.show()"
   ]
  },
  {
   "cell_type": "code",
   "execution_count": 0,
   "metadata": {
    "application/vnd.databricks.v1+cell": {
     "cellMetadata": {
      "byteLimit": 2048000,
      "rowLimit": 10000
     },
     "inputWidgets": {},
     "nuid": "0330f366-dd76-4f91-84df-67ac5941863e",
     "showTitle": false,
     "title": ""
    }
   },
   "outputs": [],
   "source": [
    "import plotly.express as px\n",
    "df = px.data.gapminder()\n",
    "df.head()"
   ]
  },
  {
   "cell_type": "code",
   "execution_count": 0,
   "metadata": {
    "application/vnd.databricks.v1+cell": {
     "cellMetadata": {
      "byteLimit": 2048000,
      "rowLimit": 10000
     },
     "inputWidgets": {},
     "nuid": "4b41a676-4066-43b9-9bff-d3c39db654d1",
     "showTitle": false,
     "title": ""
    }
   },
   "outputs": [],
   "source": [
    "\n",
    "px.scatter(df, x=\"gdpPercap\", y=\"lifeExp\", animation_frame=\"year\", animation_group=\"country\",\n",
    "           size=\"pop\", color=\"continent\", hover_name=\"country\",\n",
    "           log_x=True, size_max=55, range_x=[100,100000], range_y=[25,90])"
   ]
  },
  {
   "cell_type": "code",
   "execution_count": 0,
   "metadata": {
    "application/vnd.databricks.v1+cell": {
     "cellMetadata": {
      "byteLimit": 2048000,
      "rowLimit": 10000
     },
     "inputWidgets": {},
     "nuid": "34e58b25-7d43-4a03-b9e3-d574ad77d4c2",
     "showTitle": false,
     "title": ""
    }
   },
   "outputs": [
    {
     "output_type": "stream",
     "name": "stdout",
     "output_type": "stream",
     "text": [
      "\u001B[43mNote: you may need to restart the kernel using %restart_python or dbutils.library.restartPython() to use updated packages.\u001B[0m\nCollecting scikit-image\n  Obtaining dependency information for scikit-image from https://files.pythonhosted.org/packages/ad/96/138484302b8ec9a69cdf65e8d4ab47a640a3b1a8ea3c437e1da3e1a5a6b8/scikit_image-0.24.0-cp311-cp311-manylinux_2_17_x86_64.manylinux2014_x86_64.whl.metadata\n  Downloading scikit_image-0.24.0-cp311-cp311-manylinux_2_17_x86_64.manylinux2014_x86_64.whl.metadata (14 kB)\nRequirement already satisfied: numpy>=1.23 in /databricks/python3/lib/python3.11/site-packages (from scikit-image) (1.23.5)\nRequirement already satisfied: scipy>=1.9 in /databricks/python3/lib/python3.11/site-packages (from scikit-image) (1.11.1)\nCollecting networkx>=2.8 (from scikit-image)\n  Obtaining dependency information for networkx>=2.8 from https://files.pythonhosted.org/packages/38/e9/5f72929373e1a0e8d142a130f3f97e6ff920070f87f91c4e13e40e0fba5a/networkx-3.3-py3-none-any.whl.metadata\n  Downloading networkx-3.3-py3-none-any.whl.metadata (5.1 kB)\nRequirement already satisfied: pillow>=9.1 in /databricks/python3/lib/python3.11/site-packages (from scikit-image) (9.4.0)\nCollecting imageio>=2.33 (from scikit-image)\n  Obtaining dependency information for imageio>=2.33 from https://files.pythonhosted.org/packages/3d/84/f1647217231f6cc46883e5d26e870cc3e1520d458ecd52d6df750810d53c/imageio-2.34.2-py3-none-any.whl.metadata\n  Downloading imageio-2.34.2-py3-none-any.whl.metadata (4.9 kB)\nCollecting tifffile>=2022.8.12 (from scikit-image)\n  Obtaining dependency information for tifffile>=2022.8.12 from https://files.pythonhosted.org/packages/05/a9/f7b3fd6c73e0ac29e7f9c9c86c3b7367b182a3dd60495da7b8129e6df681/tifffile-2024.7.24-py3-none-any.whl.metadata\n  Downloading tifffile-2024.7.24-py3-none-any.whl.metadata (31 kB)\nRequirement already satisfied: packaging>=21 in /databricks/python3/lib/python3.11/site-packages (from scikit-image) (23.2)\nCollecting lazy-loader>=0.4 (from scikit-image)\n  Obtaining dependency information for lazy-loader>=0.4 from https://files.pythonhosted.org/packages/83/60/d497a310bde3f01cb805196ac61b7ad6dc5dcf8dce66634dc34364b20b4f/lazy_loader-0.4-py3-none-any.whl.metadata\n  Downloading lazy_loader-0.4-py3-none-any.whl.metadata (7.6 kB)\nDownloading scikit_image-0.24.0-cp311-cp311-manylinux_2_17_x86_64.manylinux2014_x86_64.whl (14.9 MB)\n\u001B[?25l   \u001B[90m━━━━━━━━━━━━━━━━━━━━━━━━━━━━━━━━━━━━━━━━\u001B[0m \u001B[32m0.0/14.9 MB\u001B[0m \u001B[31m?\u001B[0m eta \u001B[36m-:--:--\u001B[0m\n\u001B[2K   \u001B[91m━\u001B[0m\u001B[91m╸\u001B[0m\u001B[90m━━━━━━━━━━━━━━━━━━━━━━━━━━━━━━━━━━━━━━\u001B[0m \u001B[32m0.7/14.9 MB\u001B[0m \u001B[31m20.7 MB/s\u001B[0m eta \u001B[36m0:00:01\u001B[0m\n\u001B[2K   \u001B[91m━━━━━\u001B[0m\u001B[90m╺\u001B[0m\u001B[90m━━━━━━━━━━━━━━━━━━━━━━━━━━━━━━━━━━\u001B[0m \u001B[32m2.0/14.9 MB\u001B[0m \u001B[31m29.9 MB/s\u001B[0m eta \u001B[36m0:00:01\u001B[0m\n\u001B[2K   \u001B[91m━━━━━━━━━━━\u001B[0m\u001B[90m╺\u001B[0m\u001B[90m━━━━━━━━━━━━━━━━━━━━━━━━━━━━\u001B[0m \u001B[32m4.2/14.9 MB\u001B[0m \u001B[31m40.5 MB/s\u001B[0m eta \u001B[36m0:00:01\u001B[0m\n\u001B[2K   \u001B[91m━━━━━━━━━━━━━━━━━━━━━\u001B[0m\u001B[91m╸\u001B[0m\u001B[90m━━━━━━━━━━━━━━━━━━\u001B[0m \u001B[32m8.0/14.9 MB\u001B[0m \u001B[31m57.4 MB/s\u001B[0m eta \u001B[36m0:00:01\u001B[0m\n\u001B[2K   \u001B[91m━━━━━━━━━━━━━━━━━━━━━━━━━━━━━━━━━━━━\u001B[0m\u001B[91m╸\u001B[0m\u001B[90m━━━\u001B[0m \u001B[32m13.7/14.9 MB\u001B[0m \u001B[31m126.6 MB/s\u001B[0m eta \u001B[36m0:00:01\u001B[0m\n\u001B[2K   \u001B[91m━━━━━━━━━━━━━━━━━━━━━━━━━━━━━━━━━━━━━━━\u001B[0m\u001B[91m╸\u001B[0m \u001B[32m14.9/14.9 MB\u001B[0m \u001B[31m139.1 MB/s\u001B[0m eta \u001B[36m0:00:01\u001B[0m\n\u001B[2K   \u001B[91m━━━━━━━━━━━━━━━━━━━━━━━━━━━━━━━━━━━━━━━\u001B[0m\u001B[91m╸\u001B[0m \u001B[32m14.9/14.9 MB\u001B[0m \u001B[31m139.1 MB/s\u001B[0m eta \u001B[36m0:00:01\u001B[0m\n\u001B[2K   \u001B[90m━━━━━━━━━━━━━━━━━━━━━━━━━━━━━━━━━━━━━━━━\u001B[0m \u001B[32m14.9/14.9 MB\u001B[0m \u001B[31m68.9 MB/s\u001B[0m eta \u001B[36m0:00:00\u001B[0m\n\u001B[?25hDownloading imageio-2.34.2-py3-none-any.whl (313 kB)\n\u001B[?25l   \u001B[90m━━━━━━━━━━━━━━━━━━━━━━━━━━━━━━━━━━━━━━━━\u001B[0m \u001B[32m0.0/313.5 kB\u001B[0m \u001B[31m?\u001B[0m eta \u001B[36m-:--:--\u001B[0m\n\u001B[2K   \u001B[90m━━━━━━━━━━━━━━━━━━━━━━━━━━━━━━━━━━━━━━━━\u001B[0m \u001B[32m313.5/313.5 kB\u001B[0m \u001B[31m27.4 MB/s\u001B[0m eta \u001B[36m0:00:00\u001B[0m\n\u001B[?25hDownloading lazy_loader-0.4-py3-none-any.whl (12 kB)\nDownloading networkx-3.3-py3-none-any.whl (1.7 MB)\n\u001B[?25l   \u001B[90m━━━━━━━━━━━━━━━━━━━━━━━━━━━━━━━━━━━━━━━━\u001B[0m \u001B[32m0.0/1.7 MB\u001B[0m \u001B[31m?\u001B[0m eta \u001B[36m-:--:--\u001B[0m\n\u001B[2K   \u001B[90m━━━━━━━━━━━━━━━━━━━━━━━━━━━━━━━━━━━━━━━━\u001B[0m \u001B[32m1.7/1.7 MB\u001B[0m \u001B[31m64.8 MB/s\u001B[0m eta \u001B[36m0:00:00\u001B[0m\n\u001B[?25hDownloading tifffile-2024.7.24-py3-none-any.whl (226 kB)\n\u001B[?25l   \u001B[90m━━━━━━━━━━━━━━━━━━━━━━━━━━━━━━━━━━━━━━━━\u001B[0m \u001B[32m0.0/226.2 kB\u001B[0m \u001B[31m?\u001B[0m eta \u001B[36m-:--:--\u001B[0m\n\u001B[2K   \u001B[90m━━━━━━━━━━━━━━━━━━━━━━━━━━━━━━━━━━━━━━━━\u001B[0m \u001B[32m226.2/226.2 kB\u001B[0m \u001B[31m21.8 MB/s\u001B[0m eta \u001B[36m0:00:00\u001B[0m\n\u001B[?25hInstalling collected packages: tifffile, networkx, lazy-loader, imageio, scikit-image\nSuccessfully installed imageio-2.34.2 lazy-loader-0.4 networkx-3.3 scikit-image-0.24.0 tifffile-2024.7.24\n\u001B[43mNote: you may need to restart the kernel using %restart_python or dbutils.library.restartPython() to use updated packages.\u001B[0m\n"
     ]
    }
   ],
   "source": [
    "%pip install scikit-image"
   ]
  },
  {
   "cell_type": "code",
   "execution_count": 0,
   "metadata": {
    "application/vnd.databricks.v1+cell": {
     "cellMetadata": {
      "byteLimit": 2048000,
      "rowLimit": 10000
     },
     "inputWidgets": {},
     "nuid": "8a73e403-42e1-4e13-899e-3a4093b667af",
     "showTitle": false,
     "title": ""
    }
   },
   "outputs": [],
   "source": [
    "dbutils.library.restartPython()"
   ]
  },
  {
   "cell_type": "code",
   "execution_count": 0,
   "metadata": {
    "application/vnd.databricks.v1+cell": {
     "cellMetadata": {
      "byteLimit": 2048000,
      "rowLimit": 10000
     },
     "inputWidgets": {},
     "nuid": "5b961a26-b888-4e79-852e-543150ac56e3",
     "showTitle": false,
     "title": ""
    }
   },
   "outputs": [],
   "source": [
    "# Import data\n",
    "import time\n",
    "import numpy as np\n",
    "\n",
    "from skimage import io\n",
    "\n",
    "vol = io.imread(\"https://s3.amazonaws.com/assets.datacamp.com/blog_assets/attention-mri.tif\")\n",
    "volume = vol.T\n",
    "r, c = volume[0].shape"
   ]
  },
  {
   "cell_type": "code",
   "execution_count": 0,
   "metadata": {
    "application/vnd.databricks.v1+cell": {
     "cellMetadata": {
      "byteLimit": 2048000,
      "rowLimit": 10000
     },
     "inputWidgets": {},
     "nuid": "c593db37-a400-4266-9e80-ba9633ec5a74",
     "showTitle": false,
     "title": ""
    }
   },
   "outputs": [
    {
     "output_type": "execute_result",
     "data": {
      "text/plain": [
       "(189, 157)"
      ]
     },
     "execution_count": 6,
     "metadata": {},
     "output_type": "execute_result"
    }
   ],
   "source": [
    "r, c = volume[0].shape\n",
    "volume[0].shape"
   ]
  },
  {
   "cell_type": "code",
   "execution_count": 0,
   "metadata": {
    "application/vnd.databricks.v1+cell": {
     "cellMetadata": {
      "byteLimit": 2048000,
      "rowLimit": 10000
     },
     "inputWidgets": {},
     "nuid": "0c25acf9-d520-4516-85fd-2348ecb7b2b8",
     "showTitle": false,
     "title": ""
    }
   },
   "outputs": [],
   "source": [
    "# Define frames\n",
    "import plotly.graph_objects as go\n",
    "nb_frames = 68\n",
    "\n",
    "fig = go.Figure(frames=[go.Frame(data=go.Surface(\n",
    "    z=(6.7 - k * 0.1) * np.ones((r, c)),\n",
    "    surfacecolor=np.flipud(volume[67 - k]),\n",
    "    cmin=0, cmax=200\n",
    "    ),\n",
    "    name=str(k) # you need to name the frame for the animation to behave properly\n",
    "    )\n",
    "    for k in range(nb_frames)])\n",
    "\n",
    "# Add data to be displayed before animation starts\n",
    "fig.add_trace(go.Surface(\n",
    "    z=6.7 * np.ones((r, c)),\n",
    "    surfacecolor=np.flipud(volume[67]),\n",
    "    colorscale='Gray',\n",
    "    cmin=0, cmax=200,\n",
    "    colorbar=dict(thickness=20, ticklen=4)\n",
    "    ))\n",
    "\n",
    "\n",
    "def frame_args(duration):\n",
    "    return {\n",
    "            \"frame\": {\"duration\": duration},\n",
    "            \"mode\": \"immediate\",\n",
    "            \"fromcurrent\": True,\n",
    "            \"transition\": {\"duration\": duration, \"easing\": \"linear\"},\n",
    "        }\n",
    "\n",
    "sliders = [\n",
    "            {\n",
    "                \"pad\": {\"b\": 10, \"t\": 60},\n",
    "                \"len\": 0.9,\n",
    "                \"x\": 0.1,\n",
    "                \"y\": 0,\n",
    "                \"steps\": [\n",
    "                    {\n",
    "                        \"args\": [[f.name], frame_args(0)],\n",
    "                        \"label\": str(k),\n",
    "                        \"method\": \"animate\",\n",
    "                    }\n",
    "                    for k, f in enumerate(fig.frames)\n",
    "                ],\n",
    "            }\n",
    "        ]\n",
    "\n",
    "# Layout\n",
    "fig.update_layout(\n",
    "         title='Slices in volumetric data',\n",
    "         width=600,\n",
    "         height=600,\n",
    "         scene=dict(\n",
    "                    zaxis=dict(range=[-0.1, 6.8], autorange=False),\n",
    "                    aspectratio=dict(x=1, y=1, z=1),\n",
    "                    ),\n",
    "         updatemenus = [\n",
    "            {\n",
    "                \"buttons\": [\n",
    "                    {\n",
    "                        \"args\": [None, frame_args(50)],\n",
    "                        \"label\": \"&#9654;\", # play symbol\n",
    "                        \"method\": \"animate\",\n",
    "                    },\n",
    "                    {\n",
    "                        \"args\": [[None], frame_args(0)],\n",
    "                        \"label\": \"&#9724;\", # pause symbol\n",
    "                        \"method\": \"animate\",\n",
    "                    },\n",
    "                ],\n",
    "                \"direction\": \"left\",\n",
    "                \"pad\": {\"r\": 10, \"t\": 70},\n",
    "                \"type\": \"buttons\",\n",
    "                \"x\": 0.1,\n",
    "                \"y\": 0,\n",
    "            }\n",
    "         ],\n",
    "         sliders=sliders\n",
    ")\n",
    "\n",
    "fig.show()"
   ]
  }
 ],
 "metadata": {
  "application/vnd.databricks.v1+notebook": {
   "dashboards": [],
   "environmentMetadata": null,
   "language": "python",
   "notebookMetadata": {
    "pythonIndentUnit": 4
   },
   "notebookName": "Aula 8 - Ferramentas de visualização",
   "widgets": {}
  },
  "colab": {
   "provenance": []
  },
  "kernelspec": {
   "display_name": "Python 3",
   "name": "python3"
  },
  "language_info": {
   "name": "python"
  }
 },
 "nbformat": 4,
 "nbformat_minor": 0
}
